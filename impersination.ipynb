{
 "cells": [
  {
   "cell_type": "code",
   "execution_count": 1,
   "metadata": {},
   "outputs": [
    {
     "name": "stderr",
     "output_type": "stream",
     "text": [
      "Using TensorFlow backend.\n"
     ]
    }
   ],
   "source": [
    "from matplotlib import pyplot as plt\n",
    "from mtcnn.mtcnn import MTCNN\n",
    "from matplotlib.patches import Rectangle\n",
    "from numpy import asarray\n",
    "from PIL import Image\n",
    "from keras_vggface.utils import preprocess_input\n",
    "from keras_vggface.vggface import VGGFace\n",
    "from scipy.spatial.distance import cosine\n",
    "import cv2\n",
    "import os\n"
   ]
  },
  {
   "cell_type": "code",
   "execution_count": null,
   "metadata": {},
   "outputs": [],
   "source": [
    "detector = MTCNN()\n",
    "def detectface(image):\n",
    "    faces = detector.detect_faces(image)\n",
    "    return faces"
   ]
  },
  {
   "cell_type": "code",
   "execution_count": null,
   "metadata": {},
   "outputs": [],
   "source": [
    "def extract_face_from_image(image_path, required_size=(224, 224)):\n",
    "  # load image and detect faces\n",
    "    image = plt.imread(image_path)\n",
    "    detector = MTCNN()\n",
    "    faces = detector.detect_faces(image)\n",
    "\n",
    "    face_images = []\n",
    "\n",
    "    for face in faces:\n",
    "        # extract the bounding box from the requested face\n",
    "        x1, y1, width, height = face['box']\n",
    "        x2, y2 = x1 + width, y1 + height\n",
    "\n",
    "        # extract the face\n",
    "        face_boundary = image[y1:y2, x1:x2]\n",
    "\n",
    "        # resize pixels to the model size\n",
    "        face_image = Image.fromarray(face_boundary)\n",
    "        face_image = face_image.resize(required_size)\n",
    "        face_array = asarray(face_image)\n",
    "        face_images.append(face_array)\n",
    "\n",
    "    return face_images"
   ]
  },
  {
   "cell_type": "code",
   "execution_count": null,
   "metadata": {},
   "outputs": [],
   "source": [
    "def get_model_scores(faces):\n",
    "    samples = asarray(faces, 'float32')\n",
    "\n",
    "    # prepare the data for the model\n",
    "    samples = preprocess_input(samples, version=2)\n",
    "\n",
    "    # create a vggface model object\n",
    "    model = VGGFace(model='resnet50',\n",
    "      include_top=False,\n",
    "      input_shape=(224, 224, 3),\n",
    "      pooling='avg')\n",
    "\n",
    "    # perform prediction\n",
    "    return model.predict(samples)"
   ]
  },
  {
   "cell_type": "code",
   "execution_count": null,
   "metadata": {},
   "outputs": [],
   "source": [
    "def load_images_from_folder(folder):\n",
    "    images = []\n",
    "    filenames = []\n",
    "    for filename in os.listdir(folder):\n",
    "        img = cv2.imread(os.path.join(folder,filename))\n",
    "        if img is not None:\n",
    "            images.append(img)\n",
    "            filenames.append(os.path.splitext(os.path.basename(filename))[0])\n",
    "    \n",
    "    return images,filenames"
   ]
  },
  {
   "cell_type": "code",
   "execution_count": null,
   "metadata": {},
   "outputs": [],
   "source": [
    "files=[]\n",
    "fold_img,filenames=load_images_from_folder(\"face recognition/extracted faces\")\n",
    "\n",
    "f1=faces1 = extract_face_from_image('img1.jpg')\n",
    "#faces2 = extract_face_from_image('img1.jpg')\n",
    "\n",
    "model_scores_face1 = get_model_scores(faces1)\n",
    "\n",
    "for i,faces2 in enumerate(fold_img):\n",
    "    faces2 = extract_face_from_image(faces2) #if you have already extracted faces then don't use this\n",
    "    #faces22=np.reshape(faces2,(1,faces2.shape[0],faces2.shape[1],faces2.shape[2]))\n",
    "    model_scores_face2 = get_model_scores(faces2)\n",
    "    for idx, face_score_1 in enumerate(model_scores_face1):\n",
    "        for idy, face_score_2 in enumerate(model_scores_face2):\n",
    "            score = cosine(face_score_1, face_score_2)\n",
    "            if score <= 0.3:\n",
    "                # Printing the IDs of faces and score\n",
    "                print(score)\n",
    "                f1.pop(idx)\n",
    "                filenames.pop(i)\n",
    "                \n",
    "                # Displaying each matched pair of faces\n",
    "print(\"Suspicious people are\")\n",
    "for i in f1:\n",
    "    plt.imshow(f1[idx])\n",
    "    plt.show()\n",
    "print(\"Absent Students are\")\n",
    "for i in filenames:\n",
    "    print(i)\n"
   ]
  },
  {
   "cell_type": "code",
   "execution_count": null,
   "metadata": {},
   "outputs": [],
   "source": [
    "get_model_scores(extract_face_from_image(faces2))"
   ]
  }
 ],
 "metadata": {
  "kernelspec": {
   "display_name": "Python 3",
   "language": "python",
   "name": "python3"
  },
  "language_info": {
   "codemirror_mode": {
    "name": "ipython",
    "version": 3
   },
   "file_extension": ".py",
   "mimetype": "text/x-python",
   "name": "python",
   "nbconvert_exporter": "python",
   "pygments_lexer": "ipython3",
   "version": "3.7.7"
  }
 },
 "nbformat": 4,
 "nbformat_minor": 4
}
